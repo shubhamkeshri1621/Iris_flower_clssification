{
 "cells": [
  {
   "cell_type": "code",
   "execution_count": 11,
   "metadata": {},
   "outputs": [
    {
     "name": "stdout",
     "output_type": "stream",
     "text": [
      "for training dataset\n",
      "[1 0 2 1 1 2 2 0 2 0 0 0 1 1 1 2 1 2 1 0 0 2 0 0 2 1 2 0 1 1 1 2 2 2 2 1 2\n",
      " 0 0 0 0 1 2 2 0 2 2 2 2 2 1 1 1 1 1 1 2 2 0 1 0 1 2 2 0 0 2 1 1 0 2 1 0 0\n",
      " 1 1 1 0 2 0 0 1 1 1 2 1 2 2 0 0 2 0 1 0 1 2 0 1 1 0 0 1 0 2 1 0 0 2 1 1 2\n",
      " 2 0 2 1 2 0 2 0 0]\n",
      "94.16666666666669\n",
      "for test data set\n",
      "[0 0 0 0 0 0 0 0 0 0 0 1 1 1 1 1 1 1 1 2 2 2 2 2 2 2 2 2 2 2]\n"
     ]
    },
    {
     "data": {
      "text/plain": [
       "99.99999999999997"
      ]
     },
     "execution_count": 11,
     "metadata": {},
     "output_type": "execute_result"
    }
   ],
   "source": [
    "import pandas as pd\n",
    "import numpy as np\n",
    "import matplotlib.pyplot as plt\n",
    "import math\n",
    "import random\n",
    "\n",
    "def sigmoid(X):\n",
    "    return (1.0/(1.0+np.exp(-X)))\n",
    "def cost_fun(y,h):\n",
    "    m=h.shape[0]\n",
    "    return np.sum((-y*np.log(h))-((1-y)*np.log(1-h)))/m\n",
    "def predict(X):\n",
    "    n=X.shape[0]\n",
    "    a=np.zeros((n,1))\n",
    "    a=np.array(np.argmax(X,axis=1)).reshape(n,1)\n",
    "    return a\n",
    "def accuracy(a,y):\n",
    "    n=a.shape[0]\n",
    "    c=0\n",
    "    for i in range(0,n):\n",
    "        c+= 1\n",
    "    return((c/n)*100)\n",
    "def loss(X):\n",
    "    return (sigmoid(X)*(1-sigmoid(X)))\n",
    "    \n",
    "\n",
    "    \n",
    "iris_data = pd.read_csv(r\"C:\\Users\\SHUBHAM\\Downloads\\IRIS.csv\")\n",
    "##iris_data.tail(20) stores the dataset\n",
    "iris_data = np.array(iris_data)\n",
    "##print(iris_data) , stores that data set in a array\n",
    "test = random.sample(range(0,150),120)\n",
    "##print(test) , takes 120 random datsets from given set so that the system doesnot follows the same pattern and gives same data\n",
    "validation = [i for i in range (150) if not (i in test)]\n",
    "##print(validation) , stores the remaining data set \n",
    "y = iris_data[:,4]\n",
    "##print(y) (if we put :4 then the other four columns will come on the screen) , stores the starting 5 features of dataset \n",
    "x=np.array(iris_data[:,:4],dtype=float)\n",
    "##print(x) , now stores that last feature in a array\n",
    "x = x-np.mean(x)\n",
    "##print(x) , feature scaling\n",
    "x_train=(x[test,:4])\n",
    "##print(x_train) ,now stores the values of test set from column 0 to 3\n",
    "x_train = np.concatenate((x_train,np.ones((120,1),dtype=float)),axis=1)\n",
    "##print(x_train), now addition of an column of 1 in the x_train array\n",
    "y_train = np.zeros((120,3)) ## takes a array of 120*3 whose each every element is 0\n",
    "for i,j in zip(test,range(120)):\n",
    "    if y[i]=='Iris-setosa':\n",
    "        y_train[j,0]=1 ## for iris_data in setosa make 1 in y_train\n",
    "    if y[i]=='Iris-versicolor':\n",
    "        y_train[j,1]=1 ## for iris_data in versicolor make 1 in y_train\n",
    "    if y[i]=='Iris-virginica':\n",
    "        y_train[j,2]=1 ## for iris_data in virginica make 1 in y_train\n",
    "##print(y_train)\n",
    "x_test =(x[validation,:4])\n",
    "x_test = np.concatenate((x_test,np.ones((30,1))),axis=1)\n",
    "##print(x_test)\n",
    "y_test = np.zeros((30,3))\n",
    "\n",
    "for i,j in zip(validation,range(120)):\n",
    "    if y[i]=='Iris-setosa':\n",
    "        y_test[j,0]=1 ## for iris_data in setosa make 1 in y_train\n",
    "    if y[i]=='Iris-versicolor':\n",
    "        y_test[j,1]=1 ## for iris_data in vericolor make 1 in y_train\n",
    "    if y[i]=='Iris-virginica':\n",
    "        y_test[j,2]=1 ## for iris_data in virginica make 1 in y_train\n",
    "##print(y_test)\n",
    "theta = np.random.rand(x.shape[1]+1,3)\n",
    "##print(trn) ## theta is our weight matrix of 5*3 in this case 5 fetures and 3 class\n",
    "h = sigmoid(np.dot(x_train,theta))\n",
    "##c = cost_fun(y_train,h) ## this is our sigmoid function\n",
    "alpha = 0.12 ## learning rate\n",
    "m = x_train.shape[0] ## \n",
    "\n",
    "print(\"for training dataset\")\n",
    "for i in range (0,1000):\n",
    "    h = sigmoid(np.dot(x_train,theta)) ## sigmoid function update\n",
    "    theta -= alpha/m*np.dot((h-(y_train)).T,x_train).T ## theta update\n",
    "    \n",
    "h = sigmoid(np.dot(x_train,theta))\n",
    "print(np.argmax(h,axis=1)) ## max value in each row of h array of sigmoid function\n",
    "\n",
    "q=np.argmax(y_train,axis=1)==np.argmax(h,axis=1) ## check how many output we got correct\n",
    "\n",
    "print(np.sum(q*100/m)) ## percentage or accuracy\n",
    "##print(theta)\n",
    "\n",
    "print( \"for test data set\")\n",
    "h = sigmoid(np.dot(x_test,theta)) ## sigmoid function update\n",
    "##print(h)\n",
    "##   theta -= alpha/m*np.dot((h-(y_test)).T,x_test).T ## theta update\n",
    "    \n",
    "##h = sigmoid(np.dot(x_test,theta))\n",
    "print(np.argmax(h,axis=1))\n",
    "q1=np.argmax(y_test,axis=1)==(np.argmax(h,axis=1))\n",
    "##print(q1)\n",
    "np.sum(q1*100/30)\n"
   ]
  },
  {
   "cell_type": "code",
   "execution_count": 43,
   "metadata": {},
   "outputs": [
    {
     "name": "stdout",
     "output_type": "stream",
     "text": [
      "5\n"
     ]
    }
   ],
   "source": [
    "print(x_train.shape[1])"
   ]
  },
  {
   "cell_type": "raw",
   "metadata": {},
   "source": []
  },
  {
   "cell_type": "code",
   "execution_count": 49,
   "metadata": {},
   "outputs": [
    {
     "name": "stdout",
     "output_type": "stream",
     "text": [
      "None\n"
     ]
    }
   ],
   "source": [
    "print(result)"
   ]
  },
  {
   "cell_type": "code",
   "execution_count": null,
   "metadata": {},
   "outputs": [],
   "source": []
  },
  {
   "cell_type": "code",
   "execution_count": null,
   "metadata": {},
   "outputs": [],
   "source": []
  },
  {
   "cell_type": "code",
   "execution_count": null,
   "metadata": {},
   "outputs": [],
   "source": []
  },
  {
   "cell_type": "code",
   "execution_count": null,
   "metadata": {},
   "outputs": [],
   "source": []
  },
  {
   "cell_type": "code",
   "execution_count": null,
   "metadata": {},
   "outputs": [],
   "source": []
  },
  {
   "cell_type": "code",
   "execution_count": null,
   "metadata": {},
   "outputs": [],
   "source": []
  }
 ],
 "metadata": {
  "kernelspec": {
   "display_name": "Python 3",
   "language": "python",
   "name": "python3"
  },
  "language_info": {
   "codemirror_mode": {
    "name": "ipython",
    "version": 3
   },
   "file_extension": ".py",
   "mimetype": "text/x-python",
   "name": "python",
   "nbconvert_exporter": "python",
   "pygments_lexer": "ipython3",
   "version": "3.7.4"
  }
 },
 "nbformat": 4,
 "nbformat_minor": 2
}
